{
 "cells": [
  {
   "cell_type": "code",
   "execution_count": 14,
   "metadata": {},
   "outputs": [
    {
     "name": "stdout",
     "output_type": "stream",
     "text": [
      "tensor([[ True,  True,  True,  True, False, False,  True, False],\n",
      "        [False, False,  True, False,  True,  True,  True, False],\n",
      "        [False,  True, False,  True, False,  True, False,  True],\n",
      "        [ True,  True, False,  True, False, False, False, False],\n",
      "        [False,  True,  True,  True, False, False,  True, False],\n",
      "        [False,  True, False, False,  True, False,  True, False],\n",
      "        [False, False, False, False,  True,  True, False,  True],\n",
      "        [False,  True, False,  True,  True,  True,  True, False]])\n",
      "tensor([[ True, False],\n",
      "        [False,  True]])\n"
     ]
    }
   ],
   "source": [
    "import torch\n",
    "\n",
    "tensor_size = (8, 8)\n",
    "block_shape = (4, 4)\n",
    "\n",
    "# Generate random integers (0 or 1) with torch.randint\n",
    "random_integers = torch.randint(2, size=tensor_size, dtype=torch.int)\n",
    "\n",
    "# Convert the integers to boolean values\n",
    "unstructured_outlier_mask = random_integers.bool()\n",
    "matrix_blocks = unstructured_outlier_mask.view(int(tensor_size[0]/block_shape[0]), block_shape[0], int(tensor_size[1]/block_shape[1]), block_shape[1])\n",
    "count_per_block = torch.sum(matrix_blocks, dim=(1, 3))\n",
    "\n",
    "block_mask = count_per_block > 8\n",
    "block_mask = block_mask.view(int(tensor_size[0]/block_shape[0]), int(tensor_size[1]/block_shape[1]))\n"
   ]
  },
  {
   "cell_type": "code",
   "execution_count": 17,
   "metadata": {},
   "outputs": [
    {
     "name": "stdout",
     "output_type": "stream",
     "text": [
      "tensor([[True, True],\n",
      "        [True, True]])\n",
      "tensor([[10,  6],\n",
      "        [ 6,  9]])\n"
     ]
    }
   ],
   "source": [
    "block_mask = count_per_block > 5\n",
    "block_mask = block_mask.view(int(tensor_size[0]/block_shape[0]), int(tensor_size[1]/block_shape[1]))\n",
    "print(block_mask)\n",
    "print(count_per_block)"
   ]
  },
  {
   "cell_type": "code",
   "execution_count": null,
   "metadata": {},
   "outputs": [],
   "source": []
  }
 ],
 "metadata": {
  "kernelspec": {
   "display_name": "pytorch",
   "language": "python",
   "name": "python3"
  },
  "language_info": {
   "codemirror_mode": {
    "name": "ipython",
    "version": 3
   },
   "file_extension": ".py",
   "mimetype": "text/x-python",
   "name": "python",
   "nbconvert_exporter": "python",
   "pygments_lexer": "ipython3",
   "version": "3.11.5"
  }
 },
 "nbformat": 4,
 "nbformat_minor": 2
}
